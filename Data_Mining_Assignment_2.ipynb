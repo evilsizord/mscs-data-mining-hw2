{
  "nbformat": 4,
  "nbformat_minor": 0,
  "metadata": {
    "colab": {
      "provenance": [],
      "authorship_tag": "ABX9TyMFtJp4TQU3xGwrLqW+HkTu",
      "include_colab_link": true
    },
    "kernelspec": {
      "name": "python3",
      "display_name": "Python 3"
    },
    "language_info": {
      "name": "python"
    }
  },
  "cells": [
    {
      "cell_type": "markdown",
      "metadata": {
        "id": "view-in-github",
        "colab_type": "text"
      },
      "source": [
        "<a href=\"https://colab.research.google.com/github/evilsizord/mscs-data-mining-hw2/blob/main/Data_Mining_Assignment_2.ipynb\" target=\"_parent\"><img src=\"https://colab.research.google.com/assets/colab-badge.svg\" alt=\"Open In Colab\"/></a>"
      ]
    },
    {
      "cell_type": "markdown",
      "source": [
        "# Assignment 2: Naive Bayes Classifier\n",
        "Daniel Evilsizor \\\n",
        "November 13, 2022"
      ],
      "metadata": {
        "id": "XQM0pRlgfLq9"
      }
    },
    {
      "cell_type": "code",
      "source": [
        "# Get Data from Kaggle.com\n",
        "\n",
        "# NOTE: Requires you to have a Kaggle.com account. From your account you can generate an API key.\n",
        "# It will be provided in kaggle.json. Upload the JSON file to this project BEFORE RUNNING.\n",
        "\n",
        "# src: https://www.kaggle.com/general/74235\n",
        "\n",
        "! pip install -q kaggle\n",
        "! mkdir ~/.kaggle\n",
        "! cp kaggle.json ~/.kaggle/\n",
        "! chmod 600 ~/.kaggle/kaggle.json\n",
        "! kaggle datasets download gaveshjain/ford-sentence-classifiaction-dataset   # yes there is a typo in the actual URL\n",
        "! mkdir sentence-dataset\n",
        "! unzip ford-sentence-classifiaction-dataset.zip -d sentence-dataset"
      ],
      "metadata": {
        "colab": {
          "base_uri": "https://localhost:8080/"
        },
        "id": "dhmeJ5GQfVE3",
        "outputId": "e06a807b-c704-4561-9d92-eba5d3932b31"
      },
      "execution_count": 1,
      "outputs": [
        {
          "output_type": "stream",
          "name": "stdout",
          "text": [
            "Downloading ford-sentence-classifiaction-dataset.zip to /content\n",
            "\r  0% 0.00/2.92M [00:00<?, ?B/s]\n",
            "\r100% 2.92M/2.92M [00:00<00:00, 126MB/s]\n",
            "Archive:  ford-sentence-classifiaction-dataset.zip\n",
            "  inflating: sentence-dataset/sample_submission.csv  \n",
            "  inflating: sentence-dataset/test_data.csv  \n",
            "  inflating: sentence-dataset/train_data.csv  \n"
          ]
        }
      ]
    },
    {
      "cell_type": "code",
      "source": [
        "# load all necessary libraries\n",
        "\n",
        "import os\n",
        "import pandas\n",
        "import nltk\n",
        "from nltk.stem import PorterStemmer\n",
        "from nltk.tokenize import word_tokenize\n",
        "import matplotlib.pyplot as plt\n",
        "\n",
        "nltk.download('punkt')"
      ],
      "metadata": {
        "colab": {
          "base_uri": "https://localhost:8080/"
        },
        "id": "ia4MspXxfWl7",
        "outputId": "74efc6a8-994b-4e09-fb56-f9b8ccea457a"
      },
      "execution_count": 2,
      "outputs": [
        {
          "output_type": "stream",
          "name": "stderr",
          "text": [
            "[nltk_data] Downloading package punkt to /root/nltk_data...\n",
            "[nltk_data]   Unzipping tokenizers/punkt.zip.\n"
          ]
        },
        {
          "output_type": "execute_result",
          "data": {
            "text/plain": [
              "True"
            ]
          },
          "metadata": {},
          "execution_count": 2
        }
      ]
    },
    {
      "cell_type": "code",
      "source": [
        "#from numpy import nan\n",
        "import numpy as np\n",
        "\n",
        "# Load and preview the data\n",
        "input_train = pandas.read_csv('sentence-dataset/train_data.csv')\n",
        "input_test = pandas.read_csv('sentence-dataset/test_data.csv')\n",
        "\n",
        "# throw out the integer indexs before merging\n",
        "input_train = input_train.drop(input_train.columns[[0]], axis=1)\n",
        "input_test = input_test.drop(input_test.columns[[0]], axis=1)\n",
        "\n",
        "all_data = pandas.concat([input_train, input_test])\n",
        "# how many rows?\n",
        "print(len(all_data), 'total rows loaded')\n",
        "\n",
        "\n",
        "# throw out null sentences (see https://stackoverflow.com/a/56708633)\n",
        "# todo: sigh why this not working..\n",
        "#all_data = all_data[ all_data['New_Sentence'].str.strip().astype(bool) & all_data['New_Sentence'] != nan ]\n",
        "#print(len(all_data), 'rows after removing empty')\n",
        "\n",
        "all_data['New_Sentence'].replace('', np.nan, inplace=True)\n",
        "all_data.dropna(subset=['New_Sentence'], inplace=True)\n",
        "print(len(all_data), 'rows after removing empty 2')\n",
        "\n",
        "#debug: what are values for type?\n",
        "#print(all_data['Type'].unique())\n",
        "categories = ['Responsibility', 'Requirement', 'Skill', 'SoftSkill', 'Education', 'Experience']\n",
        "\n",
        "testdata = all_data[ all_data['Type'].isnull() ]\n",
        "traindevdata = all_data[ all_data['Type'].notnull() ]\n",
        "\n",
        "split = int(.5*len(traindevdata))\n",
        "traindata = traindevdata[:split]\n",
        "devdata = traindevdata[(split+1):]\n",
        "\n",
        "print(len(traindata), 'training,', len(devdata), 'dev,', len(testdata), 'test rows loaded')\n",
        "\n",
        "# preview the result\n",
        "all_data.head(5)"
      ],
      "metadata": {
        "colab": {
          "base_uri": "https://localhost:8080/",
          "height": 258
        },
        "id": "SfR_MZ2LfYXN",
        "outputId": "15ecd72e-c903-4780-d618-7727a8d2db8b"
      },
      "execution_count": 3,
      "outputs": [
        {
          "output_type": "stream",
          "name": "stdout",
          "text": [
            "75144 total rows loaded\n",
            "73750 rows after removing empty 2\n",
            "29501 training, 29500 dev, 14748 test rows loaded\n"
          ]
        },
        {
          "output_type": "execute_result",
          "data": {
            "text/plain": [
              "   Sentence_id                                       New_Sentence  \\\n",
              "0  GERRES15609  Author and/or Review architecture/design and o...   \n",
              "1  PHERES15784  Should be able to develop custom dynamic shape...   \n",
              "2  GERREQ10457  Experience in working crosslly with a  larger ...   \n",
              "3  GERSKL27235  Previous business experience, including but no...   \n",
              "4  HONSSK18415         Delivering fast and right the first  time.   \n",
              "\n",
              "             Type  \n",
              "0  Responsibility  \n",
              "1  Responsibility  \n",
              "2     Requirement  \n",
              "3           Skill  \n",
              "4       SoftSkill  "
            ],
            "text/html": [
              "\n",
              "  <div id=\"df-f905d9e3-983c-4e50-ad9a-1b738578460c\">\n",
              "    <div class=\"colab-df-container\">\n",
              "      <div>\n",
              "<style scoped>\n",
              "    .dataframe tbody tr th:only-of-type {\n",
              "        vertical-align: middle;\n",
              "    }\n",
              "\n",
              "    .dataframe tbody tr th {\n",
              "        vertical-align: top;\n",
              "    }\n",
              "\n",
              "    .dataframe thead th {\n",
              "        text-align: right;\n",
              "    }\n",
              "</style>\n",
              "<table border=\"1\" class=\"dataframe\">\n",
              "  <thead>\n",
              "    <tr style=\"text-align: right;\">\n",
              "      <th></th>\n",
              "      <th>Sentence_id</th>\n",
              "      <th>New_Sentence</th>\n",
              "      <th>Type</th>\n",
              "    </tr>\n",
              "  </thead>\n",
              "  <tbody>\n",
              "    <tr>\n",
              "      <th>0</th>\n",
              "      <td>GERRES15609</td>\n",
              "      <td>Author and/or Review architecture/design and o...</td>\n",
              "      <td>Responsibility</td>\n",
              "    </tr>\n",
              "    <tr>\n",
              "      <th>1</th>\n",
              "      <td>PHERES15784</td>\n",
              "      <td>Should be able to develop custom dynamic shape...</td>\n",
              "      <td>Responsibility</td>\n",
              "    </tr>\n",
              "    <tr>\n",
              "      <th>2</th>\n",
              "      <td>GERREQ10457</td>\n",
              "      <td>Experience in working crosslly with a  larger ...</td>\n",
              "      <td>Requirement</td>\n",
              "    </tr>\n",
              "    <tr>\n",
              "      <th>3</th>\n",
              "      <td>GERSKL27235</td>\n",
              "      <td>Previous business experience, including but no...</td>\n",
              "      <td>Skill</td>\n",
              "    </tr>\n",
              "    <tr>\n",
              "      <th>4</th>\n",
              "      <td>HONSSK18415</td>\n",
              "      <td>Delivering fast and right the first  time.</td>\n",
              "      <td>SoftSkill</td>\n",
              "    </tr>\n",
              "  </tbody>\n",
              "</table>\n",
              "</div>\n",
              "      <button class=\"colab-df-convert\" onclick=\"convertToInteractive('df-f905d9e3-983c-4e50-ad9a-1b738578460c')\"\n",
              "              title=\"Convert this dataframe to an interactive table.\"\n",
              "              style=\"display:none;\">\n",
              "        \n",
              "  <svg xmlns=\"http://www.w3.org/2000/svg\" height=\"24px\"viewBox=\"0 0 24 24\"\n",
              "       width=\"24px\">\n",
              "    <path d=\"M0 0h24v24H0V0z\" fill=\"none\"/>\n",
              "    <path d=\"M18.56 5.44l.94 2.06.94-2.06 2.06-.94-2.06-.94-.94-2.06-.94 2.06-2.06.94zm-11 1L8.5 8.5l.94-2.06 2.06-.94-2.06-.94L8.5 2.5l-.94 2.06-2.06.94zm10 10l.94 2.06.94-2.06 2.06-.94-2.06-.94-.94-2.06-.94 2.06-2.06.94z\"/><path d=\"M17.41 7.96l-1.37-1.37c-.4-.4-.92-.59-1.43-.59-.52 0-1.04.2-1.43.59L10.3 9.45l-7.72 7.72c-.78.78-.78 2.05 0 2.83L4 21.41c.39.39.9.59 1.41.59.51 0 1.02-.2 1.41-.59l7.78-7.78 2.81-2.81c.8-.78.8-2.07 0-2.86zM5.41 20L4 18.59l7.72-7.72 1.47 1.35L5.41 20z\"/>\n",
              "  </svg>\n",
              "      </button>\n",
              "      \n",
              "  <style>\n",
              "    .colab-df-container {\n",
              "      display:flex;\n",
              "      flex-wrap:wrap;\n",
              "      gap: 12px;\n",
              "    }\n",
              "\n",
              "    .colab-df-convert {\n",
              "      background-color: #E8F0FE;\n",
              "      border: none;\n",
              "      border-radius: 50%;\n",
              "      cursor: pointer;\n",
              "      display: none;\n",
              "      fill: #1967D2;\n",
              "      height: 32px;\n",
              "      padding: 0 0 0 0;\n",
              "      width: 32px;\n",
              "    }\n",
              "\n",
              "    .colab-df-convert:hover {\n",
              "      background-color: #E2EBFA;\n",
              "      box-shadow: 0px 1px 2px rgba(60, 64, 67, 0.3), 0px 1px 3px 1px rgba(60, 64, 67, 0.15);\n",
              "      fill: #174EA6;\n",
              "    }\n",
              "\n",
              "    [theme=dark] .colab-df-convert {\n",
              "      background-color: #3B4455;\n",
              "      fill: #D2E3FC;\n",
              "    }\n",
              "\n",
              "    [theme=dark] .colab-df-convert:hover {\n",
              "      background-color: #434B5C;\n",
              "      box-shadow: 0px 1px 3px 1px rgba(0, 0, 0, 0.15);\n",
              "      filter: drop-shadow(0px 1px 2px rgba(0, 0, 0, 0.3));\n",
              "      fill: #FFFFFF;\n",
              "    }\n",
              "  </style>\n",
              "\n",
              "      <script>\n",
              "        const buttonEl =\n",
              "          document.querySelector('#df-f905d9e3-983c-4e50-ad9a-1b738578460c button.colab-df-convert');\n",
              "        buttonEl.style.display =\n",
              "          google.colab.kernel.accessAllowed ? 'block' : 'none';\n",
              "\n",
              "        async function convertToInteractive(key) {\n",
              "          const element = document.querySelector('#df-f905d9e3-983c-4e50-ad9a-1b738578460c');\n",
              "          const dataTable =\n",
              "            await google.colab.kernel.invokeFunction('convertToInteractive',\n",
              "                                                     [key], {});\n",
              "          if (!dataTable) return;\n",
              "\n",
              "          const docLinkHtml = 'Like what you see? Visit the ' +\n",
              "            '<a target=\"_blank\" href=https://colab.research.google.com/notebooks/data_table.ipynb>data table notebook</a>'\n",
              "            + ' to learn more about interactive tables.';\n",
              "          element.innerHTML = '';\n",
              "          dataTable['output_type'] = 'display_data';\n",
              "          await google.colab.output.renderOutput(dataTable, element);\n",
              "          const docLink = document.createElement('div');\n",
              "          docLink.innerHTML = docLinkHtml;\n",
              "          element.appendChild(docLink);\n",
              "        }\n",
              "      </script>\n",
              "    </div>\n",
              "  </div>\n",
              "  "
            ]
          },
          "metadata": {},
          "execution_count": 3
        }
      ]
    },
    {
      "cell_type": "code",
      "source": [
        "# get vocabulary statistics\n",
        "vocab = {}\n",
        "category_counts = {}\n",
        "ps = PorterStemmer()\n",
        "\n",
        "# helper function\n",
        "def dict_increment(mydict, mykey):\n",
        "  if not mykey:\n",
        "    return  # if key is false, ignore\n",
        "  if mykey in mydict:\n",
        "    mydict[mykey] += 1\n",
        "  else:\n",
        "    mydict[mykey] = 1\n",
        "\n",
        "for index, row in all_data.iterrows():\n",
        "  if 'New_Sentence' in row:\n",
        "    tokens = word_tokenize(row['New_Sentence'])\n",
        "\n",
        "    # todo: remove stopwords?\n",
        "    # todo: do we need to lowercase the tokens?\n",
        "    stemwords = [ps.stem(tok) for tok in tokens]\n",
        "\n",
        "    # remove punctuation\n",
        "    # ref: https://stackoverflow.com/questions/15547409/how-to-get-rid-of-punctuation-using-nltk-tokenizer\n",
        "    stemwords = list(filter(lambda token: token not in '.,', tokens))\n",
        "\n",
        "    # convert to a set so we only get unique words per row (no duplicates)\n",
        "    stemwords = set(stemwords)\n",
        "\n",
        "    # get category (if train/dev data)\n",
        "    myclass = row['Type'] if row['Type'] else False\n",
        "\n",
        "    # increment overall category counts\n",
        "    dict_increment(category_counts, myclass)\n",
        "\n",
        "    # count overall word frequency, and frequency per class (label)\n",
        "    for word in stemwords:\n",
        "      if word in vocab:\n",
        "        dict_increment(vocab[word], 'total_frequency')\n",
        "        dict_increment(vocab[word], myclass)\n",
        "      else:\n",
        "        vocab[word] = {'total_frequency': 1}\n",
        "        for cat in categories:\n",
        "          vocab[word][cat] = 0\n",
        "        dict_increment(vocab[word], myclass)\n",
        "  else:\n",
        "    print('ERROR: no sentence in row', row)\n",
        "\n",
        "# preview\n",
        "print('Found', len(vocab.keys()), 'words in vocabulary')"
      ],
      "metadata": {
        "colab": {
          "base_uri": "https://localhost:8080/"
        },
        "id": "IrTyyBZAsWVy",
        "outputId": "2cd84a89-8fef-4e6c-8f34-fc9c9578ce7b"
      },
      "execution_count": 5,
      "outputs": [
        {
          "output_type": "stream",
          "name": "stdout",
          "text": [
            "Found 37781 words in vocabulary\n"
          ]
        }
      ]
    },
    {
      "cell_type": "code",
      "source": [
        "# Calculate probability of occurrance of each word\n",
        "vocab_probs = {}\n",
        "for word in vocab:\n",
        "  vocab_probs[word] = vocab[word]['total_frequency'] / len(all_data)\n",
        "\n",
        "# preview: words with highest probability\n",
        "print('Top 5')\n",
        "for w in sorted(vocab_probs, key=vocab_probs.get, reverse=True)[:5]:\n",
        "  print(w, vocab_probs[w])\n",
        "\n",
        "# preview: words with lowest probability\n",
        "print('Bottom 5')\n",
        "for w in sorted(vocab_probs, key=vocab_probs.get)[:5]:\n",
        "  print(w, vocab_probs[w])\n",
        "\n",
        "# Calculate\tConditional probability of all words based on category\n",
        "#\tP[“the” | Skill]  = # of skill documents containing “the” / num of all skill documents\n",
        "# (we can only do this for the dev and train datasets, since we do not have categories given for the test data)\n",
        "conditional_probs = {}\n",
        "for cat in categories:\n",
        "  for word in vocab:\n",
        "    #x = sum(vocab[word][cat] for word in vocab)\n",
        "    conditional_probs[word + '_' + cat] = vocab[word][cat] / category_counts[cat]\n",
        "\n",
        "# preview\n",
        "print('Top 5 Conditional probability (Responsibility)')\n",
        "for w in sorted(conditional_probs, key=conditional_probs.get, reverse=True)[:5]:\n",
        "  print(w, conditional_probs[w])\n"
      ],
      "metadata": {
        "colab": {
          "base_uri": "https://localhost:8080/"
        },
        "id": "MRDBIqivRLS6",
        "outputId": "afe5e56e-c589-4369-a84d-e12776de8dad"
      },
      "execution_count": 7,
      "outputs": [
        {
          "output_type": "stream",
          "name": "stdout",
          "text": [
            "Top 5\n",
            "and 0.4694915254237288\n",
            "of 0.2896\n",
            "in 0.2870508474576271\n",
            "to 0.2600406779661017\n",
            "experience 0.19086101694915253\n",
            "Bottom 5\n",
            "crosslly 1.3559322033898305e-05\n",
            "Nebraska 1.3559322033898305e-05\n",
            "aeroespacial 1.3559322033898305e-05\n",
            "automotriz 1.3559322033898305e-05\n",
            "-Typhoon 1.3559322033898305e-05\n",
            "Top 5 Conditional probability (Responsibility)\n",
            "years_Experience 0.8038114122053316\n",
            "experience_Experience 0.7933465521039876\n",
            "and_Responsibility 0.677983876253523\n",
            "of_Experience 0.6488213262833223\n",
            "and_SoftSkill 0.54428632115548\n"
          ]
        }
      ]
    },
    {
      "cell_type": "code",
      "source": [
        "# Calculate accuracy using dev dataset\n",
        "\n",
        "\n"
      ],
      "metadata": {
        "id": "HX5XWxBB0zCe"
      },
      "execution_count": null,
      "outputs": []
    },
    {
      "cell_type": "code",
      "source": [
        "# Calculate accuracy using dev dataset\n",
        "\n",
        "# y_hat = NBC(sentence)\n",
        "# y_hat ==? y\n",
        "\n"
      ],
      "metadata": {
        "id": "M6cvUU1-7nv2"
      },
      "execution_count": null,
      "outputs": []
    },
    {
      "cell_type": "markdown",
      "source": [
        "## References\n",
        "\n",
        "CSV reader example code:\\\n",
        "https://realpython.com/python-csv/\n",
        "\n",
        "https://www.geeksforgeeks.org/removing-stop-words-nltk-python/\n",
        "\n",
        "https://www.geeksforgeeks.org/python-stemming-words-with-nltk/?ref=lbp\n",
        "\n",
        "https://stackoverflow.com/questions/29314033/drop-rows-containing-empty-cells-from-a-pandas-dataframe\n",
        "\n",
        "https://stackoverflow.com/questions/613183/how-do-i-sort-a-dictionary-by-value"
      ],
      "metadata": {
        "id": "mt01xYnnkhzr"
      }
    }
  ]
}