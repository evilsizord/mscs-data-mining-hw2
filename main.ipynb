{
 "cells": [
  {
   "cell_type": "markdown",
   "id": "d8061c38-5e51-4cf7-b30e-a2374e902c94",
   "metadata": {},
   "source": [
    "# Assignment 2: Naive Bayes Classifier\n",
    "Daniel Evilsizor \\\n",
    "November 13, 2022"
   ]
  },
  {
   "cell_type": "code",
   "execution_count": 1,
   "id": "2d3f7159-62a8-4152-b336-1f624b651f8e",
   "metadata": {},
   "outputs": [
    {
     "name": "stderr",
     "output_type": "stream",
     "text": [
      "WARNING: You are using pip version 22.0.3; however, version 22.3.1 is available.\n",
      "You should consider upgrading via the 'c:\\users\\daniel\\appdata\\local\\programs\\python\\python38\\python.exe -m pip install --upgrade pip' command.\n",
      "The syntax of the command is incorrect.\n",
      "'cp' is not recognized as an internal or external command,\n",
      "operable program or batch file.\n",
      "'chmod' is not recognized as an internal or external command,\n",
      "operable program or batch file.\n",
      "Traceback (most recent call last):\n",
      "  File \"c:\\users\\daniel\\appdata\\local\\programs\\python\\python38\\lib\\runpy.py\", line 194, in _run_module_as_main\n",
      "    return _run_code(code, main_globals, None,\n",
      "  File \"c:\\users\\daniel\\appdata\\local\\programs\\python\\python38\\lib\\runpy.py\", line 87, in _run_code\n",
      "    exec(code, run_globals)\n",
      "  File \"C:\\Users\\Daniel\\AppData\\Local\\Programs\\Python\\Python38\\Scripts\\kaggle.exe\\__main__.py\", line 4, in <module>\n",
      "  File \"c:\\users\\daniel\\appdata\\local\\programs\\python\\python38\\lib\\site-packages\\kaggle\\__init__.py\", line 23, in <module>\n",
      "    api.authenticate()\n",
      "  File \"c:\\users\\daniel\\appdata\\local\\programs\\python\\python38\\lib\\site-packages\\kaggle\\api\\kaggle_api_extended.py\", line 164, in authenticate\n",
      "    raise IOError('Could not find {}. Make sure it\\'s located in'\n",
      "OSError: Could not find kaggle.json. Make sure it's located in C:\\Users\\Daniel\\.kaggle. Or use the environment method.\n",
      "A subdirectory or file sentence-dataset already exists.\n",
      "'unzip' is not recognized as an internal or external command,\n",
      "operable program or batch file.\n"
     ]
    }
   ],
   "source": [
    "# Get Data from Kaggle.com\n",
    "\n",
    "# NOTE: Requires you to have a Kaggle.com account. From your account you can generate an API key.\n",
    "# It will be provided in kaggle.json. Upload the JSON file to this project BEFORE RUNNING.\n",
    "\n",
    "# src: https://www.kaggle.com/general/74235\n",
    "\n",
    "! pip install -q kaggle\n",
    "! mkdir ~/.kaggle\n",
    "! cp kaggle.json ~/.kaggle/\n",
    "! chmod 600 ~/.kaggle/kaggle.json\n",
    "! kaggle datasets download gaveshjain/ford-sentence-classifiaction-dataset   # yes there is a typo in the actual URL\n",
    "! mkdir sentence-dataset\n",
    "! unzip ford-sentence-classifiaction-dataset.zip -d sentence-dataset"
   ]
  },
  {
   "cell_type": "code",
   "execution_count": null,
   "id": "be47ba98-6a9e-429f-9b61-29587c3c954f",
   "metadata": {},
   "outputs": [],
   "source": [
    "# load all necessary libraries\n",
    "\n",
    "import os\n",
    "import matplotlib.pyplot as plt"
   ]
  },
  {
   "cell_type": "code",
   "execution_count": null,
   "id": "1f1e553e-978f-414a-861c-c82c2773bd20",
   "metadata": {},
   "outputs": [],
   "source": [
    "# Load and preview the data\n",
    "\n",
    "# todo.."
   ]
  }
 ],
 "metadata": {
  "kernelspec": {
   "display_name": "Python 3 (ipykernel)",
   "language": "python",
   "name": "python3"
  },
  "language_info": {
   "codemirror_mode": {
    "name": "ipython",
    "version": 3
   },
   "file_extension": ".py",
   "mimetype": "text/x-python",
   "name": "python",
   "nbconvert_exporter": "python",
   "pygments_lexer": "ipython3",
   "version": "3.8.10"
  },
  "vscode": {
   "interpreter": {
    "hash": "f3aee800614a5485d4e1ef423aa2f6866bf568d4db94c3995a189d53298965bc"
   }
  }
 },
 "nbformat": 4,
 "nbformat_minor": 5
}
